{
 "cells": [
  {
   "cell_type": "code",
   "execution_count": null,
   "id": "initial_id",
   "metadata": {
    "collapsed": true
   },
   "outputs": [],
   "source": [
    "import os\n",
    "from huggingface_hub import notebook_login\n",
    "\n",
    "notebook_login()"
   ]
  },
  {
   "cell_type": "code",
   "outputs": [],
   "source": [
    "base_model = \"CompVis/stable-diffusion-v1-4\"\n",
    "dataset = \"iamkaikai/amazing_logos_v2\"\n",
    "image_resolution = 256\n",
    "train_batch_size = 1\n",
    "grad_accum_steps = 4\n",
    "max_train_steps = 10000\n",
    "learning_rate = 1e-4\n",
    "max_grad_norm = 1\n",
    "lr_scheduler = \"cosine\"\n",
    "output_dir = \"logo_lora\"\n",
    "checkpointing_steps = 500\n",
    "\n",
    "os.system(\n",
    "    f\"accelerate launch train_text_to_image_lora.py \\\n",
    "  --pretrained_model_name_or_path={base_model} \\\n",
    "  --dataset_name={dataset} \\\n",
    "  --dataloader_num_workers=8 \\\n",
    "  --resolution={image_resolution} \\\n",
    "  --center_crop --random_flip \\\n",
    "  --train_batch_size={train_batch_size} \\\n",
    "  --gradient_accumulation_steps={grad_accum_steps} \\\n",
    "  --max_train_steps={max_train_steps} \\\n",
    "  --learning_rate={learning_rate} \\\n",
    "  --max_grad_norm=1 \\\n",
    "  --lr_scheduler={lr_scheduler} \\\n",
    "  --lr_warmup_steps=0 \\\n",
    "  --output_dir={output_dir} \\\n",
    "  --checkpointing_steps={checkpointing_steps} \\\n",
    "  --seed=1337\"\n",
    ")"
   ],
   "metadata": {
    "collapsed": false
   },
   "id": "7bc8fa0fbf40392b",
   "execution_count": null
  }
 ],
 "metadata": {
  "kernelspec": {
   "display_name": "Python 3",
   "language": "python",
   "name": "python3"
  },
  "language_info": {
   "codemirror_mode": {
    "name": "ipython",
    "version": 2
   },
   "file_extension": ".py",
   "mimetype": "text/x-python",
   "name": "python",
   "nbconvert_exporter": "python",
   "pygments_lexer": "ipython2",
   "version": "2.7.6"
  }
 },
 "nbformat": 4,
 "nbformat_minor": 5
}
